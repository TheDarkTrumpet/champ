{
 "cells": [
  {
   "cell_type": "markdown",
   "metadata": {},
   "source": [
    "Kd Fitting\n",
    "==="
   ]
  },
  {
   "cell_type": "code",
   "execution_count": null,
   "metadata": {},
   "outputs": [],
   "source": [
    "%matplotlib inline\n",
    "%load_ext autoreload\n",
    "%autoreload 2"
   ]
  },
  {
   "cell_type": "code",
   "execution_count": null,
   "metadata": {},
   "outputs": [],
   "source": [
    "from champ import intensity_array, seqtools\n",
    "from champ.kd import KdFitIA\n",
    "import matplotlib.pyplot as plt\n",
    "import numpy as np\n",
    "import os\n",
    "import random\n",
    "from IPython.display import HTML"
   ]
  },
  {
   "cell_type": "code",
   "execution_count": null,
   "metadata": {},
   "outputs": [],
   "source": [
    "custom_results_dir = 'results'\n",
    "custom_fig_dir = 'figs'\n",
    "inten_array_fpath = 'results/LDA_intensity_scores.txt'"
   ]
  },
  {
   "cell_type": "markdown",
   "metadata": {},
   "source": [
    "## Setup"
   ]
  },
  {
   "cell_type": "code",
   "execution_count": null,
   "metadata": {},
   "outputs": [],
   "source": [
    "def mm_name(seq):\n",
    "    mms = []\n",
    "    for i, (c1, c2) in enumerate(zip(kdf.target, seq)):\n",
    "        if c1 != c2:\n",
    "            pos = i + 1 - 3\n",
    "            if pos <= 0:\n",
    "                pos -= 1\n",
    "            mms.append('{}{}{}'.format(c1, pos, c2))\n",
    "    return ','.join(mms)"
   ]
  },
  {
   "cell_type": "code",
   "execution_count": null,
   "metadata": {},
   "outputs": [],
   "source": [
    "IA = intensity_array.IntensityArray()\n",
    "IA.parse_intensities_file(inten_array_fpath)\n",
    "new_concentration_list = [conc for conc in IA.course_trait_list]\n",
    "IA = IA.subIA(course_traits=new_concentration_list)"
   ]
  },
  {
   "cell_type": "code",
   "execution_count": null,
   "metadata": {},
   "outputs": [],
   "source": [
    "print(IA.course_trait_list)"
   ]
  },
  {
   "cell_type": "code",
   "execution_count": null,
   "metadata": {},
   "outputs": [],
   "source": [
    "single_ham_seqs = seqtools.get_mismatch_seqs(IA.target, 1)\n",
    "single_deletion_seqs = seqtools.get_deletion_seqs(IA.target, 1)\n",
    "single_insertion_seqs = seqtools.get_insertion_seqs(IA.target, 1)"
   ]
  },
  {
   "cell_type": "code",
   "execution_count": null,
   "metadata": {},
   "outputs": [],
   "source": [
    "sinham_IA = IA.subIA(seqs=single_ham_seqs)\n",
    "del_IA = IA.subIA(seqs=single_deletion_seqs)\n",
    "ins_IA = IA.subIA(seqs=single_insertion_seqs)"
   ]
  },
  {
   "cell_type": "markdown",
   "metadata": {},
   "source": [
    "## Just Single Hamming Dist"
   ]
  },
  {
   "cell_type": "code",
   "execution_count": null,
   "metadata": {},
   "outputs": [],
   "source": [
    "kdf = KdFitIA(sinham_IA)\n",
    "kdf.find_Imin_and_background_noise()\n",
    "kdf.find_Imax()"
   ]
  },
  {
   "cell_type": "code",
   "execution_count": null,
   "metadata": {},
   "outputs": [],
   "source": [
    "print(kdf.nM_concentrations)"
   ]
  },
  {
   "cell_type": "code",
   "execution_count": null,
   "metadata": {},
   "outputs": [],
   "source": [
    "example_seqs = [kdf.target, kdf.neg_control_target] + random.sample(single_ham_seqs, 2)\n",
    "labels = ['Target', 'Neg Control'] + map(mm_name, example_seqs[2:])\n",
    "kdf.example_plots(example_seqs, labels)"
   ]
  },
  {
   "cell_type": "code",
   "execution_count": null,
   "metadata": {},
   "outputs": [],
   "source": [
    "kdf.fit_all_Kds()"
   ]
  },
  {
   "cell_type": "code",
   "execution_count": null,
   "metadata": {},
   "outputs": [],
   "source": [
    "kdf.write_results(custom_results_dir, 'LDA_sinham')"
   ]
  },
  {
   "cell_type": "markdown",
   "metadata": {},
   "source": [
    "## Error Analysis"
   ]
  },
  {
   "cell_type": "code",
   "execution_count": null,
   "metadata": {},
   "outputs": [],
   "source": [
    "kdf.all_error_analysis_and_figs(out_dir=custom_fig_dir, out_bname='LDA')"
   ]
  },
  {
   "cell_type": "markdown",
   "metadata": {},
   "source": [
    "## All Seqs"
   ]
  },
  {
   "cell_type": "code",
   "execution_count": null,
   "metadata": {},
   "outputs": [],
   "source": [
    "kdf = KdFitIA(IA)\n",
    "kdf.find_Imin_and_background_noise()\n",
    "kdf.find_Imax()"
   ]
  },
  {
   "cell_type": "code",
   "execution_count": null,
   "metadata": {},
   "outputs": [],
   "source": [
    "kdf.fit_all_Kds()"
   ]
  },
  {
   "cell_type": "code",
   "execution_count": null,
   "metadata": {},
   "outputs": [],
   "source": [
    "kdf.write_results(custom_results_dir, 'LDA')"
   ]
  }
 ],
 "metadata": {
  "kernelspec": {
   "display_name": "Python 2",
   "language": "python",
   "name": "python2"
  },
  "language_info": {
   "codemirror_mode": {
    "name": "ipython",
    "version": 2
   },
   "file_extension": ".py",
   "mimetype": "text/x-python",
   "name": "python",
   "nbconvert_exporter": "python",
   "pygments_lexer": "ipython2",
   "version": "2.7.14"
  }
 },
 "nbformat": 4,
 "nbformat_minor": 1
}
