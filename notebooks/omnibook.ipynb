{
 "cells": [
  {
   "cell_type": "code",
   "execution_count": null,
   "metadata": {
    "collapsed": true
   },
   "outputs": [],
   "source": [
    "date = ''\n",
    "target_name = ''\n",
    "negative_control_target_name = ''\n",
    "pam_side=5  # 5 or 3 \n",
    "pam_length=4  # number of bases\n",
    "\n",
    "# plot settings\n",
    "fontsize = 18\n",
    "tick_fontsize = 16"
   ]
  },
  {
   "cell_type": "code",
   "execution_count": null,
   "metadata": {
    "collapsed": false
   },
   "outputs": [],
   "source": [
    "%matplotlib inline\n",
    "%load_ext autoreload\n",
    "%autoreload 2\n",
    "import os\n",
    "import sys\n",
    "import glob\n",
    "import numpy as np\n",
    "import matplotlib.pyplot as plt\n",
    "import tifffile\n",
    "import random\n",
    "import itertools\n",
    "from collections import defaultdict, Counter, namedtuple\n",
    "from IPython.display import HTML, Image\n",
    "from champ import misc, intensity, intensity_array, interactive\n",
    "from Bio import SeqIO\n",
    "import time\n",
    "from JSAnimation import IPython_display\n",
    "from matplotlib import animation\n",
    "import yaml\n",
    "import flabpal\n",
    "from champ.adapters_cython import simple_hamming_distance\n",
    "from mpl_toolkits.mplot3d import Axes3D\n",
    "import matplotlib as mpl\n",
    "import matplotlib.pyplot as plt\n",
    "from champ.interactive import TargetSequence\n",
    "from champ import plotting"
   ]
  },
  {
   "cell_type": "code",
   "execution_count": null,
   "metadata": {
    "collapsed": false
   },
   "outputs": [],
   "source": [
    "with open(\"/shared/targets.yml\") as f:\n",
    "    targets = yaml.load(f)\n",
    "target = targets[target_name]\n",
    "ts = TargetSequence(target, pam_side=pam_side, pam_length=pam_length)\n",
    "\n",
    "sequence_labels = [\"$%s_{%d}$\" % (base, index) for base, index in ts.human_readable_indexes]\n",
    "guide_sequence_labels = [\"$%s_{%d}$\" % (base, index) for base, index in ts.guide.human_readable_indexes]"
   ]
  },
  {
   "cell_type": "code",
   "execution_count": null,
   "metadata": {
    "collapsed": false
   },
   "outputs": [],
   "source": [
    "IA = intensity_array.IntensityArray()\n",
    "intensity_filename = os.path.join('results', date, 'custom', 'LDA_intensity_scores.txt')\n",
    "IA.parse_intensities_file(intensity_filename)\n",
    "\n",
    "target_len = len(target)\n",
    "base_color = {'A': flabpal.blue, 'C': flabpal.yellow, 'G': flabpal.green, 'T': flabpal.red}\n",
    "    \n",
    "bases = 'ACGT'\n",
    "Imin_name = 'Imin_const'\n",
    "Imax_name = 'Imax_adjusted'\n",
    "inten_fmt = 'LDA'\n",
    "TA_calibration_strategy = 'neg_control'  # ['pam', 'neg_control', 'all_possible']\n",
    "ABA_zero_strategy = 'neg_control'  # neg_control or max_concentration\n",
    "\n",
    "dname = '_'.join([inten_fmt, Imin_name, Imax_name, TA_calibration_strategy, ABA_zero_strategy])\n",
    "fig_dir = 'analysis/figs'\n",
    "results_dir = 'analysis/results'\n",
    "for dpath in [fig_dir, results_dir]:\n",
    "    if not os.path.isdir(dpath):\n",
    "        os.makedirs(dpath)\n",
    "\n",
    "custom_results_dir = os.path.join('results', date, 'custom')\n",
    "custom_fig_dir = os.path.join('figs', date, 'custom')\n",
    "inten_array_fpath = os.path.join(custom_results_dir, 'LDA_intensity_scores.txt')"
   ]
  },
  {
   "cell_type": "code",
   "execution_count": null,
   "metadata": {
    "collapsed": false
   },
   "outputs": [],
   "source": [
    "Kds = {}\n",
    "Kd_error = {} \n",
    "ABAs = {}\n",
    "ABA_error = {}\n",
    "ddGs = {}\n",
    "fname = 'LDA_Imin_const_Imax_adjusted_Kds_and_ABAs.txt'\n",
    "fpath = os.path.join(custom_results_dir, fname)\n",
    "with open(fpath) as f:\n",
    "    line = next(f)\n",
    "    assert line.startswith('# Target:')\n",
    "    target = line.strip().split(': ')[1]\n",
    "    line = next(f)\n",
    "    assert line.startswith('# Neg Control')\n",
    "    neg_control_target = line.strip().split(': ')[1]\n",
    "    line = next(f)\n",
    "    assert line.startswith('# Concentration')\n",
    "    line = next(f)\n",
    "    while not line.startswith('#'):\n",
    "        max_concentration = float(line.strip().split()[0])\n",
    "        line = next(f)\n",
    "    assert line.startswith('# Seq')\n",
    "    for line in f:\n",
    "        if line.startswith('#'):\n",
    "            continue\n",
    "        words = line.strip().split()\n",
    "        seq = words[0]\n",
    "        assert seq not in Kds, seq\n",
    "        Kd, Kd_err, ABA, ABA_err = map(float, words[1:])\n",
    "        Kds[seq] = Kd\n",
    "        Kd_error[seq] = Kd_err\n",
    "        ABAs[seq] = max(ABA, 0.0)\n",
    "        ABA_error[seq] = ABA_err\n",
    "ddGs = {seq: ABAs[target] - ABA for seq, ABA in ABAs.items()}\n",
    "ddG_error = ABA_error\n",
    "perfect_ABA = ABAs[ts.sequence]"
   ]
  },
  {
   "cell_type": "markdown",
   "metadata": {},
   "source": [
    "# Single Mismatch Affinities"
   ]
  },
  {
   "cell_type": "code",
   "execution_count": null,
   "metadata": {
    "collapsed": false
   },
   "outputs": [],
   "source": [
    "fig, ax = plt.subplots(figsize=(15, 5))\n",
    "idxs = np.arange(len(target))\n",
    "width = 0.5\n",
    "\n",
    "for i, j, mismatch_base, seq in ts.single_mismatches:\n",
    "    affinity = ABAs.get(seq)\n",
    "    if affinity is not None:\n",
    "        affinity -= perfect_ABA\n",
    "    else:\n",
    "        print(\"Missing sequence: %s\" % seq)\n",
    "    error = ABA_error.get(seq, 0.0)\n",
    "    label = mismatch_base if i == 0 else None\n",
    "    bar_x_position = i - width/2.0 + width*j/4.0\n",
    "    color = base_color[mismatch_base]\n",
    "    error_kw = dict(ecolor='k', alpha=0.6)\n",
    "    ax.bar(bar_x_position, affinity, width=width/4.0, yerr=error, color=color, error_kw=error_kw, label=label)\n",
    "plotting.configure_position_penalty_axes(target, fig, ax, sequence_labels, \n",
    "                                         fontsize, tick_fontsize, 'ABA', base_color, target_name)"
   ]
  },
  {
   "cell_type": "markdown",
   "metadata": {},
   "source": [
    "# Double Mismatch Affinities"
   ]
  },
  {
   "cell_type": "code",
   "execution_count": null,
   "metadata": {
    "collapsed": false
   },
   "outputs": [],
   "source": [
    "mm = interactive.MismatchMatrix(ts.sequence)\n",
    "for i, j, base_i, base_j, seq in ts.double_mismatches:\n",
    "    affinity = ABAs.get(seq)\n",
    "    if affinity is not None:\n",
    "        affinity -= perfect_ABA\n",
    "    else:\n",
    "        print(\"Missing sequence: %s\" % seq)\n",
    "    mm.set_value(i, j, base_i, base_j, affinity)\n",
    "    \n",
    "plotting.plot_2d_mismatches(ts.sequence, sequence_labels, base_color, mm.to_matrix())"
   ]
  },
  {
   "cell_type": "markdown",
   "metadata": {},
   "source": [
    "# Single Deletion Affinities"
   ]
  },
  {
   "cell_type": "code",
   "execution_count": null,
   "metadata": {
    "collapsed": false
   },
   "outputs": [],
   "source": [
    "fig, ax = plt.subplots(figsize=(15, 5))\n",
    "width = 0.5\n",
    "\n",
    "for i, seq in ts.guide.single_deletions:\n",
    "    sequence = ts.pam + seq if ts.pam_side == 5 else seq + ts.pam\n",
    "    affinity = ABAs.get(sequence)\n",
    "    if affinity is not None:\n",
    "        affinity -= perfect_ABA\n",
    "    else:\n",
    "        print(\"Missing sequence: %s\" % seq)\n",
    "    error = ABA_error.get(sequence, 0.0)    \n",
    "    ax.bar(i - width/2.0, affinity, width=width, yerr=error, color=flabpal.gray, error_kw=dict(ecolor='black'))\n",
    "plotting.configure_position_penalty_axes(ts.guide.sequence, fig, ax, guide_sequence_labels, fontsize, tick_fontsize, 'ABA', base_color, target_name, legend=False)"
   ]
  },
  {
   "cell_type": "markdown",
   "metadata": {},
   "source": [
    "# Double Deltion Affinities"
   ]
  },
  {
   "cell_type": "code",
   "execution_count": null,
   "metadata": {
    "collapsed": false
   },
   "outputs": [],
   "source": [
    "from matplotlib import gridspec\n",
    "import matplotlib as mpl\n",
    "\n",
    "dm = interactive.SinglePositionMatrix(ts.guide.sequence)\n",
    "for i, j, seq in ts.guide.double_deletions:\n",
    "    # we add the PAM back in just to look up its affinity\n",
    "    sequence = ts.pam + seq if ts.pam_side == 5 else seq + ts.pam\n",
    "    affinity = ABAs.get(sequence)\n",
    "    if affinity is not None:\n",
    "        affinity -= perfect_ABA\n",
    "    else:\n",
    "        print(\"Missing sequence: %s\" % seq)\n",
    "    dm.set_value(i, j, affinity)\n",
    "        \n",
    "plotting.plot_2d_deletions(ts.guide.sequence, guide_sequence_labels, base_color, dm.to_matrix('lower'))"
   ]
  },
  {
   "cell_type": "markdown",
   "metadata": {},
   "source": [
    "# Single Insertion Affinities"
   ]
  },
  {
   "cell_type": "code",
   "execution_count": null,
   "metadata": {
    "collapsed": false
   },
   "outputs": [],
   "source": [
    "fig, ax = plt.subplots(figsize=(15, 5))\n",
    "idxs = np.arange(len(target))\n",
    "width = 0.5\n",
    "\n",
    "for i, j, insertion_base, seq in ts.guide.single_insertions:\n",
    "    sequence = ts.pam + seq if ts.pam_side == 5 else seq + ts.pam\n",
    "    affinity = ABAs.get(sequence)\n",
    "    if affinity is not None:\n",
    "        affinity -= perfect_ABA\n",
    "    else:\n",
    "        print(\"Missing sequence: %s\" % seq)\n",
    "    error = ABA_error.get(sequence, 0.0)\n",
    "    label = insertion_base if i == 0 else None\n",
    "    bar_x_position = i - width/2.0 + width*j/4.0\n",
    "    color = base_color[insertion_base]\n",
    "    ax.bar(bar_x_position, affinity, width=width/4.0, yerr=error, color=color, error_kw=dict(ecolor='k', alpha=0.6), label=label)\n",
    "plotting.configure_position_penalty_axes(ts.guide.sequence, fig, ax, guide_sequence_labels, fontsize, tick_fontsize, 'ABA', base_color, target_name)"
   ]
  },
  {
   "cell_type": "markdown",
   "metadata": {},
   "source": [
    "# Double Insertion Affinities"
   ]
  },
  {
   "cell_type": "code",
   "execution_count": null,
   "metadata": {
    "collapsed": false
   },
   "outputs": [],
   "source": [
    "mm = interactive.InsertionMatrix(ts.guide.sequence)\n",
    "for i, j, base_i, base_j, seq in ts.guide.double_insertions:\n",
    "    sequence = ts.pam + seq if ts.pam_side == 5 else seq + ts.pam\n",
    "    affinity = ABAs.get(sequence)\n",
    "    if affinity is not None:\n",
    "        affinity -= perfect_ABA\n",
    "    else:\n",
    "        print(\"Missing sequence: %s\" % seq)\n",
    "    mm.set_value(i, j, base_j, base_i, affinity)\n",
    "    \n",
    "plotting.plot_2d_insertions(ts.guide.sequence, guide_sequence_labels, base_color, mm.to_matrix())"
   ]
  },
  {
   "cell_type": "markdown",
   "metadata": {},
   "source": [
    "# Complement Stretch Affinities"
   ]
  },
  {
   "cell_type": "code",
   "execution_count": null,
   "metadata": {
    "collapsed": false
   },
   "outputs": [],
   "source": [
    "dm = interactive.SinglePositionMatrix(ts.guide.sequence)\n",
    "for start, stop, seq in ts.guide.complement_stretches:\n",
    "    # There's an extra datapoint that shows up in Jim's data - it's not bad but it is distracting, so we hide it\n",
    "    if start == 6 and stop == 22:\n",
    "        continue\n",
    "    # we add the PAM back in just to look up its affinity\n",
    "    sequence = ts.pam + seq if ts.pam_side == 5 else seq + ts.pam\n",
    "    affinity = ABAs.get(sequence)\n",
    "    if affinity is not None:\n",
    "        affinity -= perfect_ABA\n",
    "    else:\n",
    "        print(\"Missing sequence: %s\" % seq)\n",
    "    dm.set_value(stop, start, affinity)\n",
    "\n",
    "plotting.plot_complement_stretches(ts.guide.sequence, guide_sequence_labels, base_color, dm.to_matrix('lower'))"
   ]
  }
 ],
 "metadata": {
  "kernelspec": {
   "display_name": "Python 2",
   "language": "python",
   "name": "python2"
  },
  "language_info": {
   "codemirror_mode": {
    "name": "ipython",
    "version": 2
   },
   "file_extension": ".py",
   "mimetype": "text/x-python",
   "name": "python",
   "nbconvert_exporter": "python",
   "pygments_lexer": "ipython2",
   "version": "2.7.6"
  }
 },
 "nbformat": 4,
 "nbformat_minor": 0
}
