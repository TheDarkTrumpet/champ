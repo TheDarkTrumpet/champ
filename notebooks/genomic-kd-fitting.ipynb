{
 "cells": [
  {
   "cell_type": "markdown",
   "metadata": {},
   "source": [
    "Kd Analysis\n",
    "==="
   ]
  },
  {
   "cell_type": "code",
   "execution_count": null,
   "metadata": {
    "collapsed": true
   },
   "outputs": [],
   "source": [
    "date = ''\n",
    "project_name = ''\n",
    "target_name = ''\n",
    "neg_control_target_name = ''\n",
    "all_channels = ['']\n",
    "data_channel = ''\n",
    "target_sequence_file = '/shared/targets.yml'\n",
    "read_name_dir = os.path.join('/shared', project_name, 'read_names')\n",
    "nonneg_lda_weights_fpath = '/shared/bLDA_coef_nonneg.txt'\n",
    "read_names_by_seq_fpath = os.path.join(read_name_dir, 'read_names_by_seq.txt')\n",
    "out_fname = 'target_{}_genome_Kds.txt'.format(target_name)\n",
    "\n",
    "Kd_fpath = os.path.join(custom_results_dir, 'LDA_Imin_const_Imax_adjusted_Kds_and_ABAs.txt')\n",
    "bam_fpath = os.path.join('/shared/{project_name}/all_fastqs/GRCh38.bam'.format(project_name=project_name))"
   ]
  },
  {
   "cell_type": "code",
   "execution_count": null,
   "metadata": {
    "collapsed": false
   },
   "outputs": [],
   "source": [
    "%matplotlib inline\n",
    "%load_ext autoreload\n",
    "%autoreload 2"
   ]
  },
  {
   "cell_type": "code",
   "execution_count": null,
   "metadata": {
    "collapsed": false
   },
   "outputs": [],
   "source": [
    "import os\n",
    "import sys\n",
    "import glob\n",
    "import numpy as np\n",
    "import matplotlib.pyplot as plt\n",
    "import random\n",
    "import itertools\n",
    "import yaml\n",
    "from collections import defaultdict, Counter\n",
    "from IPython.display import HTML, Image\n",
    "from champ.adapters_cython import simple_hamming_distance\n",
    "from champ import misc, intensity, seqtools"
   ]
  },
  {
   "cell_type": "markdown",
   "metadata": {},
   "source": [
    "Run Specific Section\n",
    "==="
   ]
  },
  {
   "cell_type": "markdown",
   "metadata": {},
   "source": [
    "### Parameters"
   ]
  },
  {
   "cell_type": "code",
   "execution_count": null,
   "metadata": {
    "collapsed": false
   },
   "outputs": [],
   "source": [
    "with open(target_sequence_file) as f:\n",
    "    targets = yaml.load(f)\n",
    "\n",
    "target = targets[target_name]\n",
    "neg_control_target = targets[neg_control_target_name]\n",
    "datadir = os.path.join('results', date)\n",
    "figdir = os.path.join('figs', date)\n",
    "custom_fig_dir = os.path.join(figdir, 'custom')\n",
    "custom_results_dir = os.path.join(datadir, 'custom')\n",
    "\n",
    "for dpath in [custom_fig_dir, custom_results_dir]:\n",
    "    if not os.path.isdir(dpath):\n",
    "        os.makedirs(dpath)\n",
    "out_fpath = os.path.join(custom_results_dir, out_fname)\n",
    "\n",
    "print 'Image Collection Date:', date\n",
    "print 'Sequencing Project Name:', project_name\n",
    "print 'Target \"{}\":'.format(target_name), target\n",
    "print 'Neg control target \"{}\":'.format(neg_control_target_name), neg_control_target\n",
    "print 'Channels:', all_channels\n",
    "print 'Protein channel:', data_channel\n",
    "print 'Output file:', out_fpath"
   ]
  },
  {
   "cell_type": "markdown",
   "metadata": {},
   "source": [
    "Load Data\n",
    "==="
   ]
  },
  {
   "cell_type": "code",
   "execution_count": null,
   "metadata": {
    "collapsed": false
   },
   "outputs": [],
   "source": [
    "all_read_name_fpath = os.path.join(read_name_dir, 'all_read_names.txt')\n",
    "target_read_name_fpath = os.path.join(read_name_dir, 'target_{}_read_names.txt'.format(target_name.lower()))\n",
    "perfect_target_read_name_fpath = os.path.join(read_name_dir, 'perfect_target_{}_read_names.txt'.format(target_name.lower()))\n",
    "neg_control_target_read_name_fpath = os.path.join(read_name_dir, 'perfect_target_{}_read_names.txt'.format(neg_control_target_name.lower()))\n",
    "phiX_read_name_fpath = os.path.join(read_name_dir, 'phix_read_names.txt')\n",
    "\n",
    "all_read_names = set(line.strip() for line in open(all_read_name_fpath))\n",
    "target_read_names = set(line.strip() for line in open(target_read_name_fpath))\n",
    "perfect_target_read_names = set(line.strip() for line in open(perfect_target_read_name_fpath))\n",
    "neg_control_target_read_names = set(line.strip() for line in open(neg_control_target_read_name_fpath))\n",
    "phiX_read_names = set(line.strip() for line in open(phiX_read_name_fpath))"
   ]
  },
  {
   "cell_type": "code",
   "execution_count": null,
   "metadata": {
    "collapsed": false
   },
   "outputs": [],
   "source": [
    "h5_fpaths = glob.glob('*.h5')\n",
    "i = 0\n",
    "while i < len(h5_fpaths):\n",
    "    if 'PhiX' in h5_fpaths[i] or 'chip' in h5_fpaths[i]:\n",
    "        h5_fpaths.pop(i)\n",
    "    else:\n",
    "        i += 1\n",
    "h5_fpaths.sort(key=misc.parse_concentration)\n",
    "for fpath in h5_fpaths:\n",
    "    print misc.parse_concentration(fpath), fpath"
   ]
  },
  {
   "cell_type": "code",
   "execution_count": null,
   "metadata": {
    "collapsed": false
   },
   "outputs": [],
   "source": [
    "results_dir_name = date\n",
    "results_dirs = [\n",
    "    os.path.join('results',\n",
    "                 os.path.splitext(os.path.basename(h5_fpath))[0])\n",
    "    for h5_fpath in h5_fpaths\n",
    "]\n",
    "print(results_dirs)"
   ]
  },
  {
   "cell_type": "code",
   "execution_count": null,
   "metadata": {
    "collapsed": false
   },
   "outputs": [],
   "source": [
    "print 'Loading data...'\n",
    "print()\n",
    "int_scores = intensity.IntensityScores(h5_fpaths)\n",
    "int_scores.get_LDA_scores(results_dirs, nonneg_lda_weights_fpath)"
   ]
  },
  {
   "cell_type": "code",
   "execution_count": null,
   "metadata": {
    "collapsed": false
   },
   "outputs": [],
   "source": [
    "print 'Normalizing data...'\n",
    "int_scores.normalize_scores(perfect_target_read_names)"
   ]
  },
  {
   "cell_type": "code",
   "execution_count": null,
   "metadata": {
    "collapsed": false
   },
   "outputs": [],
   "source": [
    "int_scores.plot_aligned_images('br', 'o*')"
   ]
  },
  {
   "cell_type": "code",
   "execution_count": null,
   "metadata": {
    "collapsed": false
   },
   "outputs": [],
   "source": [
    "int_scores.plot_normalization_constants()"
   ]
  },
  {
   "cell_type": "code",
   "execution_count": null,
   "metadata": {
    "collapsed": false
   },
   "outputs": [],
   "source": [
    "int_scores.print_reads_per_channel()"
   ]
  },
  {
   "cell_type": "code",
   "execution_count": null,
   "metadata": {
    "collapsed": false
   },
   "outputs": [],
   "source": [
    "good_num_ims_cutoff = len(h5_fpaths) - 3\n",
    "int_scores.build_good_read_names(good_num_ims_cutoff)"
   ]
  },
  {
   "cell_type": "code",
   "execution_count": null,
   "metadata": {
    "collapsed": true
   },
   "outputs": [],
   "source": [
    "good_read_names = int_scores.good_read_names"
   ]
  },
  {
   "cell_type": "code",
   "execution_count": null,
   "metadata": {
    "collapsed": false
   },
   "outputs": [],
   "source": [
    "good_perfect_read_names = perfect_target_read_names & good_read_names\n",
    "print 'Good Reads:', len(good_read_names)\n",
    "print 'Good Perfect Reads:', len(good_perfect_read_names)"
   ]
  },
  {
   "cell_type": "code",
   "execution_count": null,
   "metadata": {
    "collapsed": false
   },
   "outputs": [],
   "source": [
    "int_scores.build_score_given_read_name_given_channel()"
   ]
  },
  {
   "cell_type": "markdown",
   "metadata": {
    "collapsed": true
   },
   "source": [
    "Fit Genomic Kds\n",
    "==="
   ]
  },
  {
   "cell_type": "code",
   "execution_count": null,
   "metadata": {
    "collapsed": false
   },
   "outputs": [],
   "source": [
    "from champ.kd_genome import KdFitGenome"
   ]
  },
  {
   "cell_type": "code",
   "execution_count": null,
   "metadata": {
    "collapsed": true
   },
   "outputs": [],
   "source": [
    "directional_Kd_offsets = range(5, 100, 5)"
   ]
  },
  {
   "cell_type": "code",
   "execution_count": null,
   "metadata": {
    "collapsed": false
   },
   "outputs": [],
   "source": [
    "kdgf = KdFitGenome(int_scores,\n",
    "                               h5_fpaths,\n",
    "                               data_channel,\n",
    "                               Kd_fpath,\n",
    "                               directional_Kd_offsets)"
   ]
  },
  {
   "cell_type": "code",
   "execution_count": null,
   "metadata": {
    "collapsed": false
   },
   "outputs": [],
   "source": [
    "kdgf.fit_Kds_in_bam_and_write_results(bam_fpath, out_fpath)"
   ]
  }
 ],
 "metadata": {
  "kernelspec": {
   "display_name": "Python 2",
   "language": "python",
   "name": "python2"
  },
  "language_info": {
   "codemirror_mode": {
    "name": "ipython",
    "version": 2
   },
   "file_extension": ".py",
   "mimetype": "text/x-python",
   "name": "python",
   "nbconvert_exporter": "python",
   "pygments_lexer": "ipython2",
   "version": "2.7.6"
  }
 },
 "nbformat": 4,
 "nbformat_minor": 0
}
