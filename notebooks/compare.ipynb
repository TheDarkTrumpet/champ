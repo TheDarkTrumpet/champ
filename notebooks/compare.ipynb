{
 "cells": [
  {
   "cell_type": "code",
   "execution_count": 1,
   "metadata": {
    "collapsed": false
   },
   "outputs": [
    {
     "data": {
      "text/html": [
       "<script>\n",
       "code_show=true; \n",
       "function code_toggle() {\n",
       " if (code_show){\n",
       " $('div.input').hide();\n",
       " } else {\n",
       " $('div.input').show();\n",
       " }\n",
       " code_show = !code_show\n",
       "} \n",
       "$( document ).ready(code_toggle);\n",
       "</script>\n",
       "<form action=\"javascript:code_toggle()\"><input type=\"submit\" value=\"Click here to toggle on/off the raw code.\"></form>"
      ],
      "text/plain": [
       "<IPython.core.display.HTML object>"
      ]
     },
     "execution_count": 1,
     "metadata": {},
     "output_type": "execute_result"
    }
   ],
   "source": [
    "from IPython.display import HTML\n",
    "\n",
    "HTML('''<script>\n",
    "code_show=true; \n",
    "function code_toggle() {\n",
    " if (code_show){\n",
    " $('div.input').hide();\n",
    " } else {\n",
    " $('div.input').show();\n",
    " }\n",
    " code_show = !code_show\n",
    "} \n",
    "$( document ).ready(code_toggle);\n",
    "</script>\n",
    "<form action=\"javascript:code_toggle()\"><input type=\"submit\" value=\"Click here to toggle on/off the raw code.\"></form>''')"
   ]
  },
  {
   "cell_type": "code",
   "execution_count": null,
   "metadata": {
    "collapsed": false
   },
   "outputs": [],
   "source": [
    "%matplotlib inline\n",
    "%load_ext autoreload\n",
    "%autoreload 2\n",
    "\n",
    "from champ.interactive import load_ABAs, TargetSequence, Comparator\n",
    "from champ.plotting import plot_position_diff, plot_2d_deletions, plot_2d_insertions, plot_2d_mismatches\n",
    "import yaml\n",
    "import flabpal\n",
    "import numpy as np\n",
    "import matplotlib.pyplot as plt\n",
    "\n",
    "base_color = {'A': flabpal.blue, 'C': flabpal.yellow, 'G': flabpal.green, 'T': flabpal.red}\n",
    "\n",
    "with open(\"/shared/targets.yml\") as f:\n",
    "    targets = yaml.load(f)\n",
    "\n",
    "protein1 = TargetSequence(targets[''], pam_side=3, pam_length=3)\n",
    "protein2 = TargetSequence(targets[''], pam_side=5, pam_length=4)"
   ]
  },
  {
   "cell_type": "code",
   "execution_count": null,
   "metadata": {
    "collapsed": false
   },
   "outputs": [],
   "source": [
    "comparator = Comparator()\n",
    "\n",
    "ABAs_protein1, ABA_error_protein1 = load_ABAs('/path/to/LDA_Imin_const_Imax_adjusted_Kds_and_ABAs.txt')\n",
    "comparator.add_experiment('Protein 1', protein1, ABAs, ABA_error)\n",
    "perfect_protein1 = ABAs[protein1.sequence]\n",
    "\n",
    "ABAs_protein2, ABA_error_protein2 = load_ABAs('/path/to/LDA_Imin_const_Imax_adjusted_Kds_and_ABAs.txt')\n",
    "comparator.add_experiment('Protein 2', protein2, ABAs, ABA_error)\n",
    "perfect_protein2 = ABAs[protein2.sequence]"
   ]
  },
  {
   "cell_type": "markdown",
   "metadata": {},
   "source": [
    "# Scatterplot"
   ]
  },
  {
   "cell_type": "code",
   "execution_count": null,
   "metadata": {
    "collapsed": false
   },
   "outputs": [],
   "source": [
    "def iter_matrices_no_diagonal(m1, m2):\n",
    "    for n, (row_i, row_j) in enumerate(zip(m1, m2)):\n",
    "        for m, (i, j) in enumerate(zip(row_i, row_j)):\n",
    "            if n != m and not np.isnan(i) and not np.isnan(j):\n",
    "                yield i, j\n",
    "\n",
    "def iter_matrices_diagonal_only(m1, m2):\n",
    "    for n, (row_i, row_j) in enumerate(zip(m1, m2)):\n",
    "        for m, (i, j) in enumerate(zip(row_i, row_j)):\n",
    "            if n == m and not np.isnan(i) and not np.isnan(j):\n",
    "                yield i, j\n",
    "\n",
    "def compare_data(bottom_data, left_data, bottom_error, left_error, color, full_label, diagonal_label, axis, extent):\n",
    "    extent = scatterplot(iter_matrices_no_diagonal(bottom_data, left_data), iter_matrices_no_diagonal(bottom_error, left_error), axis, color, full_label, extent, 'o')\n",
    "    extent = scatterplot(iter_matrices_diagonal_only(bottom_data, left_data), iter_matrices_diagonal_only(bottom_error, left_error), axis, color, diagonal_label, extent, '^')\n",
    "    return extent\n",
    "\n",
    "def scatterplot(data_iterator, error_iterator, axis, color, label, extent, marker):\n",
    "    x, y, x_err, y_err = [], [], [], []\n",
    "    for bottom_point, left_point in data_iterator:\n",
    "        x.append(bottom_point)\n",
    "        y.append(left_point)\n",
    "    axis.scatter(x, y, color=color, marker=marker, label=label, s=49, edgecolor='black')\n",
    "    extent = max(max(x), max(y))\n",
    "    for bottom_err, left_err in error_iterator:\n",
    "        x_err.append(bottom_err)\n",
    "        y_err.append(left_err)\n",
    "    axis.errorbar(x, y, yerr=(y_err, y_err), xerr=(x_err, x_err), ecolor='black', fmt='none', zorder=0, capsize=0)\n",
    "    return extent\n",
    "\n",
    "\n",
    "def scatterplot_comparison(comparator, bottom_set_label, left_set_label, normalize=False):\n",
    "    extent = 1.0\n",
    "    fig, ax = plt.subplots(figsize=(10,10))\n",
    "    colors = (flabpal.blue, flabpal.green, flabpal.red, flabpal.yellow)\n",
    "    labels = (('Double Mismatches', 'Single Mismatches'),\n",
    "              ('Double Deletions', 'Single Deletions'),\n",
    "              ('Double Insertions', 'Single Insertions'),\n",
    "              ('Complement Stretches', 'Single Complements'))\n",
    "\n",
    "    dataset_types = ('mismatches', 'deletions', 'insertions', 'complement_stretches')\n",
    "\n",
    "    for color, label, dataset_type in zip(colors, labels, dataset_types):\n",
    "        bottom, left, bottom_errors, left_errors = comparator.compare2d(bottom_set_label, left_set_label, dataset_type, dataset_type, guide_only=True, normalize=normalize, return_each_matrix=True)\n",
    "        extent = compare_data(bottom, left, bottom_errors, left_errors, color, label[0], label[1], ax, extent)\n",
    "    extent = 1.0 if normalize else extent\n",
    "    ax.set_ylim([0, extent])\n",
    "    ax.set_xlim([0, extent])\n",
    "    ax.set_xlabel(\"%s ABA $(k_{B}T)$\" % bottom_set_label, fontsize=18)\n",
    "    ax.set_ylabel(\"%s ABA $(k_{B}T)$\" % left_set_label, fontsize=18)\n",
    "    ax.plot([0, extent], [0, extent], color='black', linestyle='--', label='Slope=1')\n",
    "    ax.legend(loc='lower right', scatterpoints=1)\n",
    "    fig.tight_layout()\n",
    "    \n",
    "\n",
    "def plot_rank_ordered_ABAs(ABAs, ABA_errors, ax, color, label, normalize_by=None):\n",
    "    all_ABAs = [(ABA, seq) for seq, ABA in ABAs.items()]\n",
    "    all_ABAs.sort(reverse=True)\n",
    "\n",
    "    x = np.array([i for i, (ABA, seq) in enumerate(all_ABAs)])\n",
    "    y = np.array([max(ABA, 0.0) for i, (ABA, seq) in enumerate(all_ABAs)])\n",
    "    yerr = np.array([ABA_errors[seq] for i, (ABA, seq) in enumerate(all_ABAs)])\n",
    "    if normalize_by is not None:\n",
    "        y = y / normalize_by\n",
    "        yerr = yerr / normalize_by\n",
    "    ylb = y - yerr\n",
    "    yub = y + yerr\n",
    "\n",
    "    ax.fill_between(list(x), list(ylb), list(yub), facecolor='black', alpha=1.0, color=flabpal.gray)\n",
    "    sc = ax.scatter(x, y, c=color, s=36, linewidth=0, label=label, zorder=20)\n",
    "    return len(x)"
   ]
  },
  {
   "cell_type": "markdown",
   "metadata": {},
   "source": [
    "# Correlation Between Various Polymorphisms"
   ]
  },
  {
   "cell_type": "code",
   "execution_count": null,
   "metadata": {
    "collapsed": false
   },
   "outputs": [],
   "source": [
    "scatterplot_comparison(comparator, '', '', normalize=False)"
   ]
  },
  {
   "cell_type": "markdown",
   "metadata": {},
   "source": [
    "# Rank-Ordered List of Affinities"
   ]
  },
  {
   "cell_type": "code",
   "execution_count": null,
   "metadata": {
    "collapsed": false
   },
   "outputs": [],
   "source": [
    "fig, ax = plt.subplots(figsize=(8, 7))\n",
    "    \n",
    "protein1_count = plot_rank_ordered_ABAs(ABAs_protein1, ABA_error_protein1, ax, flabpal.blue, 'Protein 1', normalize_by=perfect_protein1)\n",
    "protein2_count = plot_rank_ordered_ABAs(ABAs_protein2, ABA_error_protein2, ax, flabpal.red, 'Protein 2', normalize_by=perfect_protein2)\n",
    "\n",
    "smallest_count = min(cpf1_count, cas9_count, short_count)\n",
    "ax.set_axis_bgcolor('white')\n",
    "ax.grid(False)\n",
    "ax.legend(loc='best', scatterpoints=1)\n",
    "ax.set_xlabel('Rank', fontsize=18)\n",
    "ax.set_xticks([0, 5500, 11000])\n",
    "ax.set_ylabel('Apparent Binding Affinity ($k_B T$)', fontsize=18)\n",
    "\n",
    "ax.set_xlim((-5, smallest_count*1.01))\n",
    "ax.set_ylim((0.0, 1.0))\n",
    "for item in ax.get_xticklabels() + ax.get_yticklabels():\n",
    "    item.set_fontsize(16)\n",
    "fig.tight_layout()"
   ]
  },
  {
   "cell_type": "markdown",
   "metadata": {},
   "source": [
    "# Double Mismatches"
   ]
  },
  {
   "cell_type": "code",
   "execution_count": null,
   "metadata": {
    "collapsed": false
   },
   "outputs": [],
   "source": [
    "sequence, sequence_labels, merged, diff  = comparator.compare_2d_mismatches('', '', guide_only=True, normalize=True)\n",
    "plot_position_diff(sequence, sequence_labels, base_color, diff, positions_are_merged=merged, colorbar_label='')"
   ]
  },
  {
   "cell_type": "markdown",
   "metadata": {},
   "source": [
    "# Double Deletions"
   ]
  },
  {
   "cell_type": "code",
   "execution_count": null,
   "metadata": {
    "collapsed": false
   },
   "outputs": [],
   "source": [
    "sequence, sequence_labels, merged, diff = comparator.compare_2d_deletions('', '', guide_only=True, normalize=True)\n",
    "plot_position_diff(sequence, sequence_labels, base_color, diff, positions_are_merged=merged, colorbar_label='')"
   ]
  },
  {
   "cell_type": "markdown",
   "metadata": {},
   "source": [
    "# Double Insertions"
   ]
  },
  {
   "cell_type": "code",
   "execution_count": null,
   "metadata": {
    "collapsed": false
   },
   "outputs": [],
   "source": [
    "sequence, sequence_labels, merged, diff = comparator.compare_2d_insertions('', '', guide_only=True, normalize=True)\n",
    "plot_position_diff(sequence, sequence_labels, base_color, diff, positions_are_merged=merged, colorbar_label='')"
   ]
  },
  {
   "cell_type": "markdown",
   "metadata": {},
   "source": [
    "# Complement Stretches"
   ]
  },
  {
   "cell_type": "code",
   "execution_count": null,
   "metadata": {
    "collapsed": false
   },
   "outputs": [],
   "source": [
    "sequence, sequence_labels, merged, diff = comparator.compare_2d_complement_stretches('', '', guide_only=True, normalize=True)\n",
    "plot_position_diff(sequence, sequence_labels, base_color, diff, positions_are_merged=merged, colorbar_label='')"
   ]
  }
 ],
 "metadata": {
  "kernelspec": {
   "display_name": "Python 2",
   "language": "python",
   "name": "python2"
  },
  "language_info": {
   "codemirror_mode": {
    "name": "ipython",
    "version": 2
   },
   "file_extension": ".py",
   "mimetype": "text/x-python",
   "name": "python",
   "nbconvert_exporter": "python",
   "pygments_lexer": "ipython2",
   "version": "2.7.6"
  }
 },
 "nbformat": 4,
 "nbformat_minor": 1
}
