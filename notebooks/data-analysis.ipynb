{
 "cells": [
  {
   "cell_type": "code",
   "execution_count": null,
   "metadata": {
    "collapsed": false
   },
   "outputs": [],
   "source": [
    "%matplotlib inline\n",
    "import random\n",
    "import matplotlib.pyplot as plt\n",
    "from collections import Counter, defaultdict\n",
    "from champ.adapters_cython import simple_hamming_distance\n",
    "from champ import misc, hdf5tools\n",
    "import tifffile\n",
    "import os\n",
    "import glob\n",
    "import sys\n",
    "import h5py\n",
    "import numpy as np\n",
    "import re"
   ]
  },
  {
   "cell_type": "code",
   "execution_count": null,
   "metadata": {
    "collapsed": true
   },
   "outputs": [],
   "source": [
    "date = ''\n",
    "image_dir = '.'"
   ]
  },
  {
   "cell_type": "code",
   "execution_count": null,
   "metadata": {
    "collapsed": false
   },
   "outputs": [],
   "source": [
    "h5_fpaths = glob.glob(os.path.join(image_dir, '*.h5'))\n",
    "for i, h5_fpath in enumerate(h5_fpaths):\n",
    "    if 'phix' in h5_fpath.lower():\n",
    "        h5_fpaths.pop(i)\n",
    "h5_fpaths.sort(key=misc.parse_concentration)\n",
    "h5_fpaths"
   ]
  },
  {
   "cell_type": "code",
   "execution_count": null,
   "metadata": {
    "collapsed": false
   },
   "outputs": [],
   "source": [
    "im_idx = 120\n",
    "vmin, vmax = {}, {}\n",
    "for h5_fpath in h5_fpaths:\n",
    "    with h5py.File(h5_fpath) as f:\n",
    "        g_keys = f.keys()\n",
    "        g_keys.sort()\n",
    "        \n",
    "        for i, g_key in enumerate(g_keys):\n",
    "            g = f[g_key]\n",
    "            im_keys = g.keys()\n",
    "            im_keys.sort()\n",
    "            im_key = im_keys[im_idx]\n",
    "            im = np.array(g[im_key])\n",
    "            if g_key in vmin:\n",
    "                vmin[g_key] = min(im.min(), vmin[g_key])\n",
    "                vmax[g_key] = max(im.max(), vmax[g_key])\n",
    "            else:\n",
    "                vmin[g_key] = im.min()\n",
    "                vmax[g_key] = im.max()\n",
    "\n",
    "print vmin, vmax\n",
    "for h5_fpath in h5_fpaths:\n",
    "    with h5py.File(h5_fpath) as f:\n",
    "        g_keys = f.keys()\n",
    "        g_keys.sort()\n",
    "        \n",
    "        fig, axes = plt.subplots(1, len(g_keys), figsize=(8*len(g_keys), 8))\n",
    "        try:\n",
    "            list(axes)\n",
    "        except:\n",
    "            axes = [axes]\n",
    "        for i, (ax, g_key) in enumerate(zip(axes, g_keys)):\n",
    "            g = f[g_key]\n",
    "            im_keys = g.keys()\n",
    "            im_keys.sort()\n",
    "            im_key = im_keys[im_idx]\n",
    "            im = np.array(g[im_key])\n",
    "\n",
    "            ax.matshow(im, vmin=vmin[g_key], vmax=vmax[g_key], cmap='viridis')\n",
    "            ax.set_title('{:.0f}pM {} {}'.format(misc.parse_concentration(h5_fpath), g_key, im_key))\n",
    "            ax.set_xticks([])\n",
    "            ax.set_yticks([])\n",
    "            \n",
    "            rc = 150\n",
    "            w = 75\n",
    "            ax.plot([rc, rc, rc+w, rc+w, rc], [rc, rc+w, rc+w, rc, rc], 'w', linewidth=2)\n",
    "            ax.plot([rc+w, im.shape[0]], [rc, im.shape[1]/2.0], 'w', linewidth=2)\n",
    "            ax.plot([rc, im.shape[0]/2.0], [rc+w, im.shape[1]], 'w', linewidth=2)\n",
    "            pos = ax.get_position()\n",
    "            new_pos = [pos.x0 + pos.width/2.0, pos.y0, pos.width/2.0, pos.height/2.0]\n",
    "            ax = fig.add_axes(new_pos)\n",
    "            print(rc, rc+w)\n",
    "            ax.matshow(im[rc:rc+w, rc:rc+w], vmin=vmin[g_key], vmax=vmax[g_key], cmap='viridis')\n",
    "            ax.set_xticks([])\n",
    "            ax.set_yticks([])"
   ]
  },
  {
   "cell_type": "markdown",
   "metadata": {},
   "source": [
    "# Look for saturation"
   ]
  },
  {
   "cell_type": "code",
   "execution_count": null,
   "metadata": {
    "collapsed": false
   },
   "outputs": [],
   "source": [
    "for h5_fpath in h5_fpaths:\n",
    "    tif_dir = os.path.splitext(h5_fpath)[0]\n",
    "    tif_fpaths = glob.glob(os.path.join(tif_dir, '*.tif'))\n",
    "    tif_fpath = tif_fpaths[0]\n",
    "\n",
    "    fname = os.path.split(tif_fpath)[1]\n",
    "    print(fname)\n",
    "    m = fov_regex.search(fname)\n",
    "    channel = m.group('channel')\n",
    "    minor_axis_pos, Major_axis_pos = int(m.group('minor')), int(m.group('major'))\n",
    "\n",
    "    with tifffile.TiffFile(tif_fpath) as tif:\n",
    "        summary = tif.micromanager_metadata['summary']\n",
    "        \n",
    "        bit_depth = summary['BitDepth']\n",
    "        sat_val = 2**bit_depth\n",
    "\n",
    "        # Find channel names and assert unique \n",
    "        channel_names = [name.replace(' ', '_').replace('(', '').replace(')', '')\n",
    "                         for name in summary['ChNames']]\n",
    "        assert summary['Channels'] == len(channel_names) == len(set(channel_names)), channel_names\n",
    "\n",
    "        # channel_idxs map tif pages to channels\n",
    "        channel_idxs = tif.micromanager_metadata['index_map']['channel']\n",
    "\n",
    "        # Setup defaultdict\n",
    "        h, w = summary['Height'], summary['Width']\n",
    "        def hw_zeros():\n",
    "            return np.zeros((h, w), dtype=np.int)\n",
    "        summed_images = defaultdict(hw_zeros)\n",
    "        all_vals = defaultdict(list)\n",
    "\n",
    "        # Add images and vals\n",
    "        for channel_idx, page in zip(channel_idxs, tif.pages):\n",
    "            all_vals[channel_idx].extend(page.asarray().flatten())\n",
    "            summed_images[channel_idx] += page.asarray()\n",
    "            \n",
    "    nchannels = len(channel_names)\n",
    "    fig, axes = plt.subplots(2, nchannels, figsize=(8*nchannels, 8))\n",
    "    if len(axes.shape) == 1:\n",
    "        axes0 = [axes[0]]\n",
    "        axes1 = [axes[1]]\n",
    "    else:\n",
    "        assert len(axes.shape) == 2, axes.shape\n",
    "        axes0 = axes[0, :]\n",
    "        axes1 = axes[1, :]\n",
    "    for ch_idx, (ax, ch_name) in enumerate(zip(axes0, channel_names)):\n",
    "        ax.hist(all_vals[ch_idx], 100, histtype='step')\n",
    "        ax.set_title('{} pM Channel {} Individual Images'.format(misc.parse_concentration(fname), ch_name))\n",
    "        ax.plot([sat_val]*2, ax.get_ylim(), 'k--', alpha=0.5)\n",
    "        ax.grid(False)\n",
    "        ax.set_axis_bgcolor('white')\n",
    "    for ch_idx, (ax, ch_name) in enumerate(zip(axes1, channel_names)):\n",
    "        ax.hist(summed_images[ch_idx].flatten(), 100, color='darkgoldenrod', histtype='step')\n",
    "        ax.set_title('{} pM Channel {} Summed Images'.format(misc.parse_concentration(fname), ch_name))\n",
    "        ax.grid(False)\n",
    "        ax.set_axis_bgcolor('white')\n"
   ]
  },
  {
   "cell_type": "code",
   "execution_count": null,
   "metadata": {
    "collapsed": true
   },
   "outputs": [],
   "source": [
    "from sklearn.neighbors import KernelDensity\n",
    "from scipy.optimize import minimize"
   ]
  },
  {
   "cell_type": "code",
   "execution_count": null,
   "metadata": {
    "collapsed": true
   },
   "outputs": [],
   "source": [
    "def build_im_kdf(im, w=200):\n",
    "    rmid, cmid = int(im.shape[0]/2), int(im.shape[1]/2)\n",
    "    vmin, vmax = im.min(), im.max()\n",
    "    bandwidth = (vmax - vmin)/100\n",
    "    kdf = KernelDensity(bandwidth=bandwidth)\n",
    "    hw = w/2\n",
    "    pct95 = vmin + 0.95 * (vmax - vmin)\n",
    "    vals = [v for v in im[rmid-hw:rmid+hw, cmid-hw:cmid+hw].flatten() if v < pct95]  # remove saturation\n",
    "    kdf.fit(np.array(vals).reshape(len(vals), 1))\n",
    "    return kdf"
   ]
  },
  {
   "cell_type": "code",
   "execution_count": null,
   "metadata": {
    "collapsed": true
   },
   "outputs": [],
   "source": [
    "def get_mode(im):\n",
    "    kdf = build_im_kdf(im)\n",
    "    def neg_kdf(x):\n",
    "        return -kdf.score(x)\n",
    "    res = minimize(neg_kdf, x0=np.median(im.flatten()), method='Nelder-Mead')\n",
    "    assert res.success, res\n",
    "    return res.x"
   ]
  },
  {
   "cell_type": "code",
   "execution_count": null,
   "metadata": {
    "collapsed": false
   },
   "outputs": [],
   "source": [
    "im_idx = 0\n",
    "for h5_fpath in h5_fpaths[-1:]:\n",
    "    with h5py.File(h5_fpath) as f:\n",
    "        g_keys = f.keys()\n",
    "        g_keys.sort()\n",
    "        \n",
    "        fig, axes = plt.subplots(1, len(g_keys), figsize=(8*len(g_keys), 8))\n",
    "        try:\n",
    "            list(axes)\n",
    "        except:\n",
    "            axes = [axes]\n",
    "        for i, (ax, g_key) in enumerate(zip(axes, g_keys)):\n",
    "            g = f[g_key]\n",
    "            im_keys = g.keys()\n",
    "            im_keys.sort()\n",
    "            im_key = im_keys[im_idx]\n",
    "            im = np.array(g[im_key])\n",
    "\n",
    "            h, bin_edges, patches = ax.hist(im.flatten(), 100, normed=True)\n",
    "            \n",
    "            kdf = build_im_kdf(im)\n",
    "            npoints = 1000\n",
    "            x = np.linspace(bin_edges[0], bin_edges[-1], npoints).reshape(npoints, 1)\n",
    "            y = np.exp(kdf.score_samples(x))\n",
    "            print x.shape, y.shape, y.max()\n",
    "            ax.plot(x.flatten(), y)\n",
    "            \n",
    "            mode = get_mode(im)\n",
    "            ylim = ax.get_ylim()\n",
    "            ax.plot([mode]*2, ylim, '--')\n",
    "            ax.set_ylim(ylim)\n",
    "            ax.set_xlim((0, 2*mode))\n",
    "            \n",
    "            ax.set_title('{:.0f}pM {} {}'.format(misc.parse_concentration(h5_fpath), g_key, im_key))\n"
   ]
  },
  {
   "cell_type": "code",
   "execution_count": null,
   "metadata": {
    "collapsed": false
   },
   "outputs": [],
   "source": [
    "im_idx = 0\n",
    "for h5_fpath in h5_fpaths[-1:]:\n",
    "    with h5py.File(h5_fpath) as f:\n",
    "        g_keys = f.keys()\n",
    "        g_keys.sort()\n",
    "        for i, g_key in enumerate(g_keys):\n",
    "            g = f[g_key]\n",
    "            im_keys = g.keys()\n",
    "            im_keys.sort()\n",
    "            im_key = im_keys[im_idx]\n",
    "            im = np.array(g[im_key])\n",
    "            \n",
    "            print get_mode(im)"
   ]
  }
 ],
 "metadata": {
  "kernelspec": {
   "display_name": "Python 2",
   "language": "python",
   "name": "python2"
  },
  "language_info": {
   "codemirror_mode": {
    "name": "ipython",
    "version": 2
   },
   "file_extension": ".py",
   "mimetype": "text/x-python",
   "name": "python",
   "nbconvert_exporter": "python",
   "pygments_lexer": "ipython2",
   "version": "2.7.6"
  }
 },
 "nbformat": 4,
 "nbformat_minor": 0
}
